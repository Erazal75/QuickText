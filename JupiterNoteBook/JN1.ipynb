{
 "cells": [
  {
   "cell_type": "code",
   "execution_count": 1,
   "id": "17084743-0fc2-4a9f-9b97-d2a0a76d3c5e",
   "metadata": {},
   "outputs": [],
   "source": [
    "import numpy as np\n",
    "import pandas as pd\n",
    "import matplotlib.pyplot as plt\n",
    "import pickle"
   ]
  },
  {
   "cell_type": "code",
   "execution_count": 2,
   "id": "9899b514-097a-4ec7-a09a-b01d59a27746",
   "metadata": {},
   "outputs": [
    {
     "name": "stdout",
     "output_type": "stream",
     "text": [
      "les données sur les feurs sont:\n",
      "      Id  SepalLengthCm  SepalWidthCm  PetalLengthCm  PetalWidthCm  \\\n",
      "0      1            5.1           3.5            1.4           0.2   \n",
      "1      2            4.9           3.0            1.4           0.2   \n",
      "2      3            4.7           3.2            1.3           0.2   \n",
      "3      4            4.6           3.1            1.5           0.2   \n",
      "4      5            5.0           3.6            1.4           0.2   \n",
      "..   ...            ...           ...            ...           ...   \n",
      "145  146            6.7           3.0            5.2           2.3   \n",
      "146  147            6.3           2.5            5.0           1.9   \n",
      "147  148            6.5           3.0            5.2           2.0   \n",
      "148  149            6.2           3.4            5.4           2.3   \n",
      "149  150            5.9           3.0            5.1           1.8   \n",
      "\n",
      "            Species  \n",
      "0       Iris-setosa  \n",
      "1       Iris-setosa  \n",
      "2       Iris-setosa  \n",
      "3       Iris-setosa  \n",
      "4       Iris-setosa  \n",
      "..              ...  \n",
      "145  Iris-virginica  \n",
      "146  Iris-virginica  \n",
      "147  Iris-virginica  \n",
      "148  Iris-virginica  \n",
      "149  Iris-virginica  \n",
      "\n",
      "[150 rows x 6 columns]\n"
     ]
    }
   ],
   "source": [
    "iris_data = pd.read_csv('/Users/lazaregrail/Documents/QuickText/venv/Jupiter NoteBook/Iris.csv')\n",
    "print(\"les données sur les feurs sont:\")\n",
    "print(iris_data)"
   ]
  },
  {
   "cell_type": "code",
   "execution_count": 3,
   "id": "6a7602d5-ded6-4e61-95ef-de8e6b96c159",
   "metadata": {},
   "outputs": [],
   "source": [
    "iris_data.dropna(inplace = True)\n",
    "iris_data.drop_duplicates(inplace = True)"
   ]
  },
  {
   "cell_type": "code",
   "execution_count": 4,
   "id": "01231b7d-b7a7-43e2-a275-84d012803bc9",
   "metadata": {},
   "outputs": [
    {
     "data": {
      "text/html": [
       "<div>\n",
       "<style scoped>\n",
       "    .dataframe tbody tr th:only-of-type {\n",
       "        vertical-align: middle;\n",
       "    }\n",
       "\n",
       "    .dataframe tbody tr th {\n",
       "        vertical-align: top;\n",
       "    }\n",
       "\n",
       "    .dataframe thead th {\n",
       "        text-align: right;\n",
       "    }\n",
       "</style>\n",
       "<table border=\"1\" class=\"dataframe\">\n",
       "  <thead>\n",
       "    <tr style=\"text-align: right;\">\n",
       "      <th></th>\n",
       "      <th>Id</th>\n",
       "      <th>SepalLengthCm</th>\n",
       "      <th>SepalWidthCm</th>\n",
       "      <th>PetalLengthCm</th>\n",
       "      <th>PetalWidthCm</th>\n",
       "    </tr>\n",
       "  </thead>\n",
       "  <tbody>\n",
       "    <tr>\n",
       "      <th>count</th>\n",
       "      <td>150.000000</td>\n",
       "      <td>150.000000</td>\n",
       "      <td>150.000000</td>\n",
       "      <td>150.000000</td>\n",
       "      <td>150.000000</td>\n",
       "    </tr>\n",
       "    <tr>\n",
       "      <th>mean</th>\n",
       "      <td>75.500000</td>\n",
       "      <td>5.843333</td>\n",
       "      <td>3.054000</td>\n",
       "      <td>3.758667</td>\n",
       "      <td>1.198667</td>\n",
       "    </tr>\n",
       "    <tr>\n",
       "      <th>std</th>\n",
       "      <td>43.445368</td>\n",
       "      <td>0.828066</td>\n",
       "      <td>0.433594</td>\n",
       "      <td>1.764420</td>\n",
       "      <td>0.763161</td>\n",
       "    </tr>\n",
       "    <tr>\n",
       "      <th>min</th>\n",
       "      <td>1.000000</td>\n",
       "      <td>4.300000</td>\n",
       "      <td>2.000000</td>\n",
       "      <td>1.000000</td>\n",
       "      <td>0.100000</td>\n",
       "    </tr>\n",
       "    <tr>\n",
       "      <th>25%</th>\n",
       "      <td>38.250000</td>\n",
       "      <td>5.100000</td>\n",
       "      <td>2.800000</td>\n",
       "      <td>1.600000</td>\n",
       "      <td>0.300000</td>\n",
       "    </tr>\n",
       "    <tr>\n",
       "      <th>50%</th>\n",
       "      <td>75.500000</td>\n",
       "      <td>5.800000</td>\n",
       "      <td>3.000000</td>\n",
       "      <td>4.350000</td>\n",
       "      <td>1.300000</td>\n",
       "    </tr>\n",
       "    <tr>\n",
       "      <th>75%</th>\n",
       "      <td>112.750000</td>\n",
       "      <td>6.400000</td>\n",
       "      <td>3.300000</td>\n",
       "      <td>5.100000</td>\n",
       "      <td>1.800000</td>\n",
       "    </tr>\n",
       "    <tr>\n",
       "      <th>max</th>\n",
       "      <td>150.000000</td>\n",
       "      <td>7.900000</td>\n",
       "      <td>4.400000</td>\n",
       "      <td>6.900000</td>\n",
       "      <td>2.500000</td>\n",
       "    </tr>\n",
       "  </tbody>\n",
       "</table>\n",
       "</div>"
      ],
      "text/plain": [
       "               Id  SepalLengthCm  SepalWidthCm  PetalLengthCm  PetalWidthCm\n",
       "count  150.000000     150.000000    150.000000     150.000000    150.000000\n",
       "mean    75.500000       5.843333      3.054000       3.758667      1.198667\n",
       "std     43.445368       0.828066      0.433594       1.764420      0.763161\n",
       "min      1.000000       4.300000      2.000000       1.000000      0.100000\n",
       "25%     38.250000       5.100000      2.800000       1.600000      0.300000\n",
       "50%     75.500000       5.800000      3.000000       4.350000      1.300000\n",
       "75%    112.750000       6.400000      3.300000       5.100000      1.800000\n",
       "max    150.000000       7.900000      4.400000       6.900000      2.500000"
      ]
     },
     "execution_count": 4,
     "metadata": {},
     "output_type": "execute_result"
    }
   ],
   "source": [
    "iris_data.describe()"
   ]
  },
  {
   "cell_type": "code",
   "execution_count": 5,
   "id": "115b13c0-5dad-46a4-9ac3-a314e55a3a9c",
   "metadata": {},
   "outputs": [
    {
     "data": {
      "text/html": [
       "<div>\n",
       "<style scoped>\n",
       "    .dataframe tbody tr th:only-of-type {\n",
       "        vertical-align: middle;\n",
       "    }\n",
       "\n",
       "    .dataframe tbody tr th {\n",
       "        vertical-align: top;\n",
       "    }\n",
       "\n",
       "    .dataframe thead th {\n",
       "        text-align: right;\n",
       "    }\n",
       "</style>\n",
       "<table border=\"1\" class=\"dataframe\">\n",
       "  <thead>\n",
       "    <tr style=\"text-align: right;\">\n",
       "      <th></th>\n",
       "      <th>SepalLengthCm</th>\n",
       "      <th>SepalWidthCm</th>\n",
       "      <th>PetalLengthCm</th>\n",
       "      <th>PetalWidthCm</th>\n",
       "    </tr>\n",
       "  </thead>\n",
       "  <tbody>\n",
       "    <tr>\n",
       "      <th>SepalLengthCm</th>\n",
       "      <td>1.000000</td>\n",
       "      <td>-0.109369</td>\n",
       "      <td>0.871754</td>\n",
       "      <td>0.817954</td>\n",
       "    </tr>\n",
       "    <tr>\n",
       "      <th>SepalWidthCm</th>\n",
       "      <td>-0.109369</td>\n",
       "      <td>1.000000</td>\n",
       "      <td>-0.420516</td>\n",
       "      <td>-0.356544</td>\n",
       "    </tr>\n",
       "    <tr>\n",
       "      <th>PetalLengthCm</th>\n",
       "      <td>0.871754</td>\n",
       "      <td>-0.420516</td>\n",
       "      <td>1.000000</td>\n",
       "      <td>0.962757</td>\n",
       "    </tr>\n",
       "    <tr>\n",
       "      <th>PetalWidthCm</th>\n",
       "      <td>0.817954</td>\n",
       "      <td>-0.356544</td>\n",
       "      <td>0.962757</td>\n",
       "      <td>1.000000</td>\n",
       "    </tr>\n",
       "  </tbody>\n",
       "</table>\n",
       "</div>"
      ],
      "text/plain": [
       "               SepalLengthCm  SepalWidthCm  PetalLengthCm  PetalWidthCm\n",
       "SepalLengthCm       1.000000     -0.109369       0.871754      0.817954\n",
       "SepalWidthCm       -0.109369      1.000000      -0.420516     -0.356544\n",
       "PetalLengthCm       0.871754     -0.420516       1.000000      0.962757\n",
       "PetalWidthCm        0.817954     -0.356544       0.962757      1.000000"
      ]
     },
     "execution_count": 5,
     "metadata": {},
     "output_type": "execute_result"
    }
   ],
   "source": [
    "iris_data[[\"SepalLengthCm\",\"SepalWidthCm\",\"PetalLengthCm\",\"PetalWidthCm\"]].corr()"
   ]
  },
  {
   "cell_type": "code",
   "execution_count": 6,
   "id": "ad0a1e9c-eb09-4cbc-947f-90ffd9f95285",
   "metadata": {},
   "outputs": [
    {
     "data": {
      "image/png": "[encoded data removed]",
      "text/plain": [
       "<Figure size 640x480 with 1 Axes>"
      ]
     },
     "metadata": {},
     "output_type": "display_data"
    }
   ],
   "source": [
    "iris_data[[\"SepalLengthCm\",\"SepalWidthCm\",\"PetalLengthCm\",\"PetalWidthCm\"]].plot()\n",
    "plt.show()"
   ]
  },
  {
   "cell_type": "code",
   "execution_count": 7,
   "id": "64a65460-e061-4af0-bd67-04def2a44d6a",
   "metadata": {},
   "outputs": [
    {
     "data": {
      "image/png": "[encoded data removed]",
      "text/plain": [
       "<Figure size 640x480 with 1 Axes>"
      ]
     },
     "metadata": {},
     "output_type": "display_data"
    },
    {
     "data": {
      "image/png": "[encoded data removed]",
      "text/plain": [
       "<Figure size 640x480 with 1 Axes>"
      ]
     },
     "metadata": {},
     "output_type": "display_data"
    }
   ],
   "source": [
    "iris_data.plot(kind = 'scatter', x = 'SepalLengthCm', y = 'PetalLengthCm')\n",
    "iris_data.plot(kind = 'scatter', x = 'SepalLengthCm', y = 'PetalWidthCm')\n",
    "plt.show()"
   ]
  },
  {
   "cell_type": "code",
   "execution_count": 8,
   "id": "eb3bf15e-2eef-420f-a5f5-57cf262fa7b0",
   "metadata": {},
   "outputs": [
    {
     "data": {
      "image/png": "[encoded data removed]",
      "text/plain": [
       "<Figure size 640x480 with 1 Axes>"
      ]
     },
     "metadata": {},
     "output_type": "display_data"
    }
   ],
   "source": [
    "iris_data.plot(kind = 'scatter', x = 'PetalLengthCm', y = 'PetalWidthCm')\n",
    "plt.show()"
   ]
  },
  {
   "cell_type": "code",
   "execution_count": 9,
   "id": "ee6b7995-bbe6-458a-a0b3-eae0ea9ee872",
   "metadata": {},
   "outputs": [
    {
     "data": {
      "text/plain": [
       "<Axes: ylabel='Frequency'>"
      ]
     },
     "execution_count": 9,
     "metadata": {},
     "output_type": "execute_result"
    },
    {
     "data": {
      "image/png": "[encoded data removed]",
      "text/plain": [
       "<Figure size 640x480 with 1 Axes>"
      ]
     },
     "metadata": {},
     "output_type": "display_data"
    }
   ],
   "source": [
    "iris_data[\"SepalWidthCm\"].plot(kind = 'hist')"
   ]
  },
  {
   "cell_type": "code",
   "execution_count": 10,
   "id": "d4f66adc-3b4a-4ce9-a9d9-b50f84fb5edc",
   "metadata": {},
   "outputs": [
    {
     "name": "stdout",
     "output_type": "stream",
     "text": [
      "   Id  SepalLengthCm  SepalWidthCm  PetalLengthCm  PetalWidthCm      Species\n",
      "0   1            5.1           3.5            1.4           0.2  Iris-setosa\n",
      "1   2            4.9           3.0            1.4           0.2  Iris-setosa\n",
      "2   3            4.7           3.2            1.3           0.2  Iris-setosa\n"
     ]
    }
   ],
   "source": [
    "print(iris_data[:3])"
   ]
  },
  {
   "cell_type": "code",
   "execution_count": 11,
   "id": "54eebf5d-ff8e-4caa-887c-d97c520a8fc1",
   "metadata": {},
   "outputs": [],
   "source": [
    "from sklearn.neighbors import KNeighborsRegressor\n",
    "from sklearn.preprocessing import StandardScaler\n",
    "from sklearn.pipeline import Pipeline\n",
    "from sklearn.datasets import load_iris\n",
    "from sklearn.model_selection import GridSearchCV"
   ]
  },
  {
   "cell_type": "code",
   "execution_count": null,
   "id": "65f5f115-e2bb-43a7-9e06-19f0954e4bcd",
   "metadata": {},
   "outputs": [],
   "source": []
  },
  {
   "cell_type": "code",
   "execution_count": 12,
   "id": "8be22079-add9-4af7-b1d7-2788b16d8e53",
   "metadata": {},
   "outputs": [],
   "source": [
    "X, y = load_iris(return_X_y=True)\n",
    "pipe = Pipeline([\n",
    "    (\"scale\", StandardScaler()),\n",
    "    (\"model\",KNeighborsRegressor())\n",
    "])"
   ]
  },
  {
   "cell_type": "code",
   "execution_count": 13,
   "id": "4cace477-c1e9-489a-bd02-3f00f660bd4c",
   "metadata": {},
   "outputs": [
    {
     "data": {
      "text/html": [
       "<div>\n",
       "<style scoped>\n",
       "    .dataframe tbody tr th:only-of-type {\n",
       "        vertical-align: middle;\n",
       "    }\n",
       "\n",
       "    .dataframe tbody tr th {\n",
       "        vertical-align: top;\n",
       "    }\n",
       "\n",
       "    .dataframe thead th {\n",
       "        text-align: right;\n",
       "    }\n",
       "</style>\n",
       "<table border=\"1\" class=\"dataframe\">\n",
       "  <thead>\n",
       "    <tr style=\"text-align: right;\">\n",
       "      <th></th>\n",
       "      <th>mean_fit_time</th>\n",
       "      <th>std_fit_time</th>\n",
       "      <th>mean_score_time</th>\n",
       "      <th>std_score_time</th>\n",
       "      <th>param_model__n_neighbors</th>\n",
       "      <th>params</th>\n",
       "      <th>split0_test_score</th>\n",
       "      <th>split1_test_score</th>\n",
       "      <th>split2_test_score</th>\n",
       "      <th>mean_test_score</th>\n",
       "      <th>std_test_score</th>\n",
       "      <th>rank_test_score</th>\n",
       "    </tr>\n",
       "  </thead>\n",
       "  <tbody>\n",
       "    <tr>\n",
       "      <th>0</th>\n",
       "      <td>0.000827</td>\n",
       "      <td>3.716562e-04</td>\n",
       "      <td>0.000728</td>\n",
       "      <td>0.000126</td>\n",
       "      <td>1</td>\n",
       "      <td>{'model__n_neighbors': 1}</td>\n",
       "      <td>0.0</td>\n",
       "      <td>0.0</td>\n",
       "      <td>0.0</td>\n",
       "      <td>0.0</td>\n",
       "      <td>0.0</td>\n",
       "      <td>1</td>\n",
       "    </tr>\n",
       "    <tr>\n",
       "      <th>1</th>\n",
       "      <td>0.000476</td>\n",
       "      <td>2.670312e-05</td>\n",
       "      <td>0.000470</td>\n",
       "      <td>0.000046</td>\n",
       "      <td>2</td>\n",
       "      <td>{'model__n_neighbors': 2}</td>\n",
       "      <td>0.0</td>\n",
       "      <td>0.0</td>\n",
       "      <td>0.0</td>\n",
       "      <td>0.0</td>\n",
       "      <td>0.0</td>\n",
       "      <td>1</td>\n",
       "    </tr>\n",
       "    <tr>\n",
       "      <th>2</th>\n",
       "      <td>0.000452</td>\n",
       "      <td>5.260839e-06</td>\n",
       "      <td>0.000431</td>\n",
       "      <td>0.000004</td>\n",
       "      <td>3</td>\n",
       "      <td>{'model__n_neighbors': 3}</td>\n",
       "      <td>0.0</td>\n",
       "      <td>0.0</td>\n",
       "      <td>0.0</td>\n",
       "      <td>0.0</td>\n",
       "      <td>0.0</td>\n",
       "      <td>1</td>\n",
       "    </tr>\n",
       "    <tr>\n",
       "      <th>3</th>\n",
       "      <td>0.000481</td>\n",
       "      <td>4.208716e-05</td>\n",
       "      <td>0.000497</td>\n",
       "      <td>0.000025</td>\n",
       "      <td>4</td>\n",
       "      <td>{'model__n_neighbors': 4}</td>\n",
       "      <td>0.0</td>\n",
       "      <td>0.0</td>\n",
       "      <td>0.0</td>\n",
       "      <td>0.0</td>\n",
       "      <td>0.0</td>\n",
       "      <td>1</td>\n",
       "    </tr>\n",
       "    <tr>\n",
       "      <th>4</th>\n",
       "      <td>0.000452</td>\n",
       "      <td>1.620935e-06</td>\n",
       "      <td>0.000438</td>\n",
       "      <td>0.000004</td>\n",
       "      <td>5</td>\n",
       "      <td>{'model__n_neighbors': 5}</td>\n",
       "      <td>0.0</td>\n",
       "      <td>0.0</td>\n",
       "      <td>0.0</td>\n",
       "      <td>0.0</td>\n",
       "      <td>0.0</td>\n",
       "      <td>1</td>\n",
       "    </tr>\n",
       "    <tr>\n",
       "      <th>5</th>\n",
       "      <td>0.000444</td>\n",
       "      <td>3.309355e-06</td>\n",
       "      <td>0.000440</td>\n",
       "      <td>0.000006</td>\n",
       "      <td>6</td>\n",
       "      <td>{'model__n_neighbors': 6}</td>\n",
       "      <td>0.0</td>\n",
       "      <td>0.0</td>\n",
       "      <td>0.0</td>\n",
       "      <td>0.0</td>\n",
       "      <td>0.0</td>\n",
       "      <td>1</td>\n",
       "    </tr>\n",
       "    <tr>\n",
       "      <th>6</th>\n",
       "      <td>0.000444</td>\n",
       "      <td>4.495664e-07</td>\n",
       "      <td>0.000435</td>\n",
       "      <td>0.000005</td>\n",
       "      <td>7</td>\n",
       "      <td>{'model__n_neighbors': 7}</td>\n",
       "      <td>0.0</td>\n",
       "      <td>0.0</td>\n",
       "      <td>0.0</td>\n",
       "      <td>0.0</td>\n",
       "      <td>0.0</td>\n",
       "      <td>1</td>\n",
       "    </tr>\n",
       "    <tr>\n",
       "      <th>7</th>\n",
       "      <td>0.000442</td>\n",
       "      <td>7.867412e-07</td>\n",
       "      <td>0.000440</td>\n",
       "      <td>0.000003</td>\n",
       "      <td>8</td>\n",
       "      <td>{'model__n_neighbors': 8}</td>\n",
       "      <td>0.0</td>\n",
       "      <td>0.0</td>\n",
       "      <td>0.0</td>\n",
       "      <td>0.0</td>\n",
       "      <td>0.0</td>\n",
       "      <td>1</td>\n",
       "    </tr>\n",
       "    <tr>\n",
       "      <th>8</th>\n",
       "      <td>0.000440</td>\n",
       "      <td>3.339752e-06</td>\n",
       "      <td>0.000438</td>\n",
       "      <td>0.000005</td>\n",
       "      <td>9</td>\n",
       "      <td>{'model__n_neighbors': 9}</td>\n",
       "      <td>0.0</td>\n",
       "      <td>0.0</td>\n",
       "      <td>0.0</td>\n",
       "      <td>0.0</td>\n",
       "      <td>0.0</td>\n",
       "      <td>1</td>\n",
       "    </tr>\n",
       "    <tr>\n",
       "      <th>9</th>\n",
       "      <td>0.000439</td>\n",
       "      <td>2.170642e-06</td>\n",
       "      <td>0.000442</td>\n",
       "      <td>0.000003</td>\n",
       "      <td>10</td>\n",
       "      <td>{'model__n_neighbors': 10}</td>\n",
       "      <td>0.0</td>\n",
       "      <td>0.0</td>\n",
       "      <td>0.0</td>\n",
       "      <td>0.0</td>\n",
       "      <td>0.0</td>\n",
       "      <td>1</td>\n",
       "    </tr>\n",
       "  </tbody>\n",
       "</table>\n",
       "</div>"
      ],
      "text/plain": [
       "   mean_fit_time  std_fit_time  mean_score_time  std_score_time  \\\n",
       "0       0.000827  3.716562e-04         0.000728        0.000126   \n",
       "1       0.000476  2.670312e-05         0.000470        0.000046   \n",
       "2       0.000452  5.260839e-06         0.000431        0.000004   \n",
       "3       0.000481  4.208716e-05         0.000497        0.000025   \n",
       "4       0.000452  1.620935e-06         0.000438        0.000004   \n",
       "5       0.000444  3.309355e-06         0.000440        0.000006   \n",
       "6       0.000444  4.495664e-07         0.000435        0.000005   \n",
       "7       0.000442  7.867412e-07         0.000440        0.000003   \n",
       "8       0.000440  3.339752e-06         0.000438        0.000005   \n",
       "9       0.000439  2.170642e-06         0.000442        0.000003   \n",
       "\n",
       "   param_model__n_neighbors                      params  split0_test_score  \\\n",
       "0                         1   {'model__n_neighbors': 1}                0.0   \n",
       "1                         2   {'model__n_neighbors': 2}                0.0   \n",
       "2                         3   {'model__n_neighbors': 3}                0.0   \n",
       "3                         4   {'model__n_neighbors': 4}                0.0   \n",
       "4                         5   {'model__n_neighbors': 5}                0.0   \n",
       "5                         6   {'model__n_neighbors': 6}                0.0   \n",
       "6                         7   {'model__n_neighbors': 7}                0.0   \n",
       "7                         8   {'model__n_neighbors': 8}                0.0   \n",
       "8                         9   {'model__n_neighbors': 9}                0.0   \n",
       "9                        10  {'model__n_neighbors': 10}                0.0   \n",
       "\n",
       "   split1_test_score  split2_test_score  mean_test_score  std_test_score  \\\n",
       "0                0.0                0.0              0.0             0.0   \n",
       "1                0.0                0.0              0.0             0.0   \n",
       "2                0.0                0.0              0.0             0.0   \n",
       "3                0.0                0.0              0.0             0.0   \n",
       "4                0.0                0.0              0.0             0.0   \n",
       "5                0.0                0.0              0.0             0.0   \n",
       "6                0.0                0.0              0.0             0.0   \n",
       "7                0.0                0.0              0.0             0.0   \n",
       "8                0.0                0.0              0.0             0.0   \n",
       "9                0.0                0.0              0.0             0.0   \n",
       "\n",
       "   rank_test_score  \n",
       "0                1  \n",
       "1                1  \n",
       "2                1  \n",
       "3                1  \n",
       "4                1  \n",
       "5                1  \n",
       "6                1  \n",
       "7                1  \n",
       "8                1  \n",
       "9                1  "
      ]
     },
     "execution_count": 13,
     "metadata": {},
     "output_type": "execute_result"
    }
   ],
   "source": [
    "mod = GridSearchCV(estimator=pipe,\n",
    "             param_grid={'model__n_neighbors': [1, 2, 3, 4, 5, 6, 7, 8, 9, 10]},\n",
    "             cv=3)\n",
    "mod.fit(X,y)\n",
    "pd.DataFrame(mod.cv_results_)"
   ]
  },
  {
   "cell_type": "code",
   "execution_count": 14,
   "id": "5210ce43-4136-45ab-a96a-8759b140c529",
   "metadata": {},
   "outputs": [
    {
     "name": "stdout",
     "output_type": "stream",
     "text": [
      "[0.  0.  0.  0.  0.  0.  0.  0.  0.  0.  0.  0.  0.  0.  0.  0.  0.  0.\n",
      " 0.  0.  0.  0.  0.  0.  0.  0.  0.  0.  0.  0.  0.  0.  0.  0.  0.  0.\n",
      " 0.  0.  0.  0.  0.  0.4 0.  0.  0.  0.  0.  0.  0.  0.  1.  1.  1.  1.\n",
      " 1.2 1.  1.2 1.  1.  1.  1.  1.  1.  1.  1.  1.  1.  1.  1.2 1.  1.6 1.\n",
      " 1.6 1.  1.  1.  1.  1.4 1.  1.  1.  1.  1.  1.8 1.  1.  1.  1.2 1.  1.\n",
      " 1.  1.  1.  1.  1.  1.  1.  1.  1.  1.  2.  1.8 2.  2.  2.  2.  1.2 2.\n",
      " 1.8 2.  2.  2.  2.  2.  2.  2.  1.8 2.  2.  1.2 2.  2.  2.  1.8 2.  2.\n",
      " 1.8 2.  2.  2.  2.  2.  2.  1.4 1.4 2.  2.  2.  1.6 2.  2.  2.  1.8 2.\n",
      " 2.  2.  1.8 2.  2.  1.6]\n"
     ]
    }
   ],
   "source": [
    "pipe.fit(X,y)\n",
    "pred = pipe.predict(X)\n",
    "print(pred)"
   ]
  },
  {
   "cell_type": "code",
   "execution_count": 15,
   "id": "888e89d6-a698-40b2-8c96-55793f6e6ebe",
   "metadata": {},
   "outputs": [
    {
     "name": "stdout",
     "output_type": "stream",
     "text": [
      "[0 0 0 0 0 0 0 0 0 0 0 0 0 0 0 0 0 0 0 0 0 0 0 0 0 0 0 0 0 0 0 0 0 0 0 0 0\n",
      " 0 0 0 0 0 0 0 0 0 0 0 0 0 1 1 1 1 1 1 1 1 1 1 1 1 1 1 1 1 1 1 1 1 1 1 1 1\n",
      " 1 1 1 1 1 1 1 1 1 1 1 1 1 1 1 1 1 1 1 1 1 1 1 1 1 1 2 2 2 2 2 2 2 2 2 2 2\n",
      " 2 2 2 2 2 2 2 2 2 2 2 2 2 2 2 2 2 2 2 2 2 2 2 2 2 2 2 2 2 2 2 2 2 2 2 2 2\n",
      " 2 2]\n"
     ]
    }
   ],
   "source": [
    "print(y)"
   ]
  },
  {
   "cell_type": "code",
   "execution_count": 16,
   "id": "cba784ca-a8e8-4530-bbed-accf6a7b1ce9",
   "metadata": {},
   "outputs": [
    {
     "data": {
      "text/plain": [
       "<matplotlib.collections.PathCollection at 0x147672e90>"
      ]
     },
     "execution_count": 16,
     "metadata": {},
     "output_type": "execute_result"
    },
    {
     "data": {
      "image/png": "[encoded data removed]",
      "text/plain": [
       "<Figure size 640x480 with 1 Axes>"
      ]
     },
     "metadata": {},
     "output_type": "display_data"
    }
   ],
   "source": [
    "plt.scatter(pred,y)"
   ]
  },
  {
   "cell_type": "code",
   "execution_count": 17,
   "id": "3f70446f-bbb8-4059-9a1d-136c5e8ee501",
   "metadata": {},
   "outputs": [
    {
     "name": "stdout",
     "output_type": "stream",
     "text": [
      "     SepalLengthCm  SepalWidthCm  PetalLengthCm  PetalWidthCm\n",
      "0              5.1           3.5            1.4           0.2\n",
      "1              4.9           3.0            1.4           0.2\n",
      "2              4.7           3.2            1.3           0.2\n",
      "3              4.6           3.1            1.5           0.2\n",
      "4              5.0           3.6            1.4           0.2\n",
      "..             ...           ...            ...           ...\n",
      "145            6.7           3.0            5.2           2.3\n",
      "146            6.3           2.5            5.0           1.9\n",
      "147            6.5           3.0            5.2           2.0\n",
      "148            6.2           3.4            5.4           2.3\n",
      "149            5.9           3.0            5.1           1.8\n",
      "\n",
      "[150 rows x 4 columns]\n",
      "0         Iris-setosa\n",
      "1         Iris-setosa\n",
      "2         Iris-setosa\n",
      "3         Iris-setosa\n",
      "4         Iris-setosa\n",
      "            ...      \n",
      "145    Iris-virginica\n",
      "146    Iris-virginica\n",
      "147    Iris-virginica\n",
      "148    Iris-virginica\n",
      "149    Iris-virginica\n",
      "Name: Species, Length: 150, dtype: object\n"
     ]
    }
   ],
   "source": [
    "X_iris = iris_data.drop(columns=[\"Species\"])\n",
    "X_iris = X_iris.drop(columns=[\"Id\"])\n",
    "print(X_iris)\n",
    "y_iris = iris_data[\"Species\"]\n",
    "print(y_iris)"
   ]
  },
  {
   "cell_type": "code",
   "execution_count": 18,
   "id": "9d19f277-9e97-4b79-9c76-75b12cc5fdb2",
   "metadata": {},
   "outputs": [
    {
     "name": "stdout",
     "output_type": "stream",
     "text": [
      "\n",
      " Total des scores par modèle:  \n",
      " \n",
      " [9.711111111111112, 9.466666666666667, 9.755555555555556, 9.866666666666667, 9.57777777777778, 9.733333333333334, 9.844444444444445, 9.644444444444446, 9.644444444444444, 9.8]\n",
      "\n",
      " Moyenne des score par modèle:  \n",
      " \n",
      " [0.9711111111111113, 0.9466666666666667, 0.9755555555555556, 0.9866666666666667, 0.957777777777778, 0.9733333333333334, 0.9844444444444445, 0.9644444444444445, 0.9644444444444444, 0.9800000000000001]\n",
      "\n",
      " Les 4 meilleurs Modèles sont:  \n",
      " \n",
      " Gaussian Process \n",
      " Neural Net \n",
      " QDA \n",
      " RBF SVM \n",
      "\n"
     ]
    }
   ],
   "source": [
    "from matplotlib.colors import ListedColormap\n",
    "\n",
    "from sklearn.datasets import make_classification\n",
    "from sklearn.discriminant_analysis import QuadraticDiscriminantAnalysis\n",
    "from sklearn.ensemble import AdaBoostClassifier, RandomForestClassifier\n",
    "from sklearn.gaussian_process import GaussianProcessClassifier\n",
    "from sklearn.gaussian_process.kernels import RBF\n",
    "from sklearn.inspection import DecisionBoundaryDisplay\n",
    "from sklearn.model_selection import train_test_split\n",
    "from sklearn.naive_bayes import GaussianNB\n",
    "from sklearn.neighbors import KNeighborsClassifier\n",
    "from sklearn.neural_network import MLPClassifier\n",
    "from sklearn.pipeline import make_pipeline\n",
    "from sklearn.preprocessing import StandardScaler\n",
    "from sklearn.svm import SVC\n",
    "from sklearn.tree import DecisionTreeClassifier\n",
    "\n",
    "rng = np.random.default_rng()\n",
    "\n",
    "names = [\n",
    "    \"Nearest Neighbors\",\n",
    "    \"Poly SVM\",\n",
    "    \"RBF SVM\",\n",
    "    \"Gaussian Process\",\n",
    "    \"Decision Tree\",\n",
    "    \"Random Forest\",\n",
    "    \"Neural Net\",\n",
    "    \"AdaBoost\",\n",
    "    \"Naive Bayes\",\n",
    "    \"QDA\",\n",
    "]\n",
    "\n",
    "classifiers = [\n",
    "    KNeighborsClassifier(3),\n",
    "    SVC(kernel=\"poly\", degree=4, coef0=1, C=0.025, random_state=42),\n",
    "    SVC(gamma=2, C=1, random_state=42),\n",
    "    GaussianProcessClassifier(1.0 * RBF(1.0), random_state=42),\n",
    "    DecisionTreeClassifier(max_depth=5, random_state=42),\n",
    "    RandomForestClassifier(\n",
    "        max_depth=5, n_estimators=10, max_features=1, random_state=42\n",
    "    ),\n",
    "    MLPClassifier(alpha=1, max_iter=1000, random_state=42),\n",
    "    AdaBoostClassifier(random_state=42),\n",
    "    GaussianNB(),\n",
    "    QuadraticDiscriminantAnalysis(),\n",
    "]\n",
    "\n",
    "modeles = []\n",
    "\n",
    "linearly_separable = (X_iris, y_iris)\n",
    "\n",
    "datasets = [\n",
    "    linearly_separable,\n",
    "]\n",
    "\n",
    "score_result = [0] * len(names)\n",
    "#load_iris(return_X_y=True)\n",
    "std_devs = np.std(X_iris, axis=0)\n",
    "\n",
    "nb_noisy_dataset = 10\n",
    "for i in range(nb_noisy_dataset-1):\n",
    "    \n",
    "    noise = rng.uniform(0, 0.5 * std_devs, size=X_iris.shape)\n",
    "\n",
    "    X_noisy = X_iris + noise\n",
    "\n",
    "    datasets.append((X_noisy, y_iris))\n",
    "\n",
    "\n",
    "#figure = plt.figure(figsize=(27, 9))\n",
    "i = 1\n",
    "# iterate over datasets\n",
    "for ds_cnt, ds in enumerate(datasets):\n",
    "    # preprocess dataset, split into training and test part\n",
    "    #if i == 1:\n",
    "        #print(\"My data iris:\",\"\\n\")\n",
    "    #else:\n",
    "        #print(\"\\n\",\"Noisy data iris n°\",i-1,\": \\n\")\n",
    "    X, y = ds\n",
    "    X_train, X_test, y_train, y_test = train_test_split(\n",
    "        X, y, test_size=0.3, random_state=42\n",
    "    )\n",
    "\n",
    "    #x_min, x_max = X[:, 0].min() - 0.5, X[:, 0].max() + 0.5\n",
    "    #y_min, y_max = X[:, 1].min() - 0.5, X[:, 1].max() + 0.5\n",
    "\n",
    "    # just plot the dataset first\n",
    "    #cm = plt.cm.RdBu\n",
    "    #cm_bright = ListedColormap([\"#FF0000\", \"#0000FF\"])\n",
    "    #ax = plt.subplot(len(datasets), len(classifiers) + 1, i)\n",
    "    #if ds_cnt == 0:\n",
    "    #    ax.set_title(\"Input data\")\n",
    "    # Plot the training points\n",
    "    #ax.scatter(X_train[:, 0], X_train[:, 1], c=y_train, cmap=cm_bright, edgecolors=\"k\")\n",
    "    # Plot the testing points\n",
    "    #ax.scatter(\n",
    "    #    X_test[:, 0], X_test[:, 1], c=y_test, cmap=cm_bright, alpha=0.6, edgecolors=\"k\"\n",
    "    #)\n",
    "    #ax.set_xlim(x_min, x_max)\n",
    "    #ax.set_ylim(y_min, y_max)\n",
    "    #ax.set_xticks(())\n",
    "    #ax.set_yticks(())\n",
    "    i += 1\n",
    "    j=0\n",
    "    # iterate over classifiers\n",
    "    if i < 4:\n",
    "        for name, clf in zip(names, classifiers):\n",
    "            #ax = plt.subplot(len(datasets), len(classifiers) + 1, i)\n",
    "    \n",
    "            clf = make_pipeline(StandardScaler(), clf)\n",
    "            clf.fit(X_train, y_train)\n",
    "            score = clf.score(X_test, y_test)\n",
    "            #print(name,\": \",score)\n",
    "            score_result[j]+=score\n",
    "            j+=1\n",
    "            if i == 3:\n",
    "                modeles.append(clf)\n",
    "            #DecisionBoundaryDisplay.from_estimator(\n",
    "            #    clf, X, cmap=cm, alpha=0.8, ax=ax, eps=0.5\n",
    "            #)\n",
    "    \n",
    "            # Plot the training points\n",
    "            #ax.scatter(\n",
    "            #    X_train[:, 0], X_train[:, 1], c=y_train, cmap=cm_bright, edgecolors=\"k\"\n",
    "            #)\n",
    "            # Plot the testing points\n",
    "            #ax.scatter(\n",
    "            #    X_test[:, 0],\n",
    "            #    X_test[:, 1],\n",
    "            #    c=y_test,\n",
    "            #    cmap=cm_bright,\n",
    "            #    edgecolors=\"k\",\n",
    "            #    alpha=0.6,\n",
    "            #)\n",
    "    \n",
    "            #ax.set_xlim(x_min, x_max)\n",
    "            #ax.set_ylim(y_min, y_max)\n",
    "            #ax.set_xticks(())\n",
    "            #ax.set_yticks(())\n",
    "            #if ds_cnt == 0:\n",
    "            #    ax.set_title(name)\n",
    "            #ax.text(\n",
    "            #    x_max - 0.3,\n",
    "            #    y_min + 0.3\n",
    "            #    (\"%.2f\" % score).lstrip(\"0\"),\n",
    "            #    size=15,\n",
    "            #    horizontalalignment=\"right\",\n",
    "            #)\n",
    "            #i += 1\n",
    "    else:\n",
    "        for name, clf in zip(names, modeles):\n",
    "            #ax = plt.subplot(len(datasets), len(classifiers) + 1, i)\n",
    "    \n",
    "            clf = make_pipeline(StandardScaler(), clf)\n",
    "            clf.fit(X_train, y_train)\n",
    "            score = clf.score(X_test, y_test)\n",
    "            #print(name,\": \",score)\n",
    "            score_result[j]+=score\n",
    "            modeles[j] = clf\n",
    "            j+=1\n",
    "            \n",
    "            #DecisionBoundaryDisplay.from_estimator(\n",
    "            #    clf, X, cmap=cm, alpha=0.8, ax=ax, eps=0.5\n",
    "            #)\n",
    "    \n",
    "            # Plot the training points\n",
    "            #ax.scatter(\n",
    "            #    X_train[:, 0], X_train[:, 1], c=y_train, cmap=cm_bright, edgecolors=\"k\"\n",
    "            #)\n",
    "            # Plot the testing points\n",
    "            #ax.scatter(\n",
    "            #    X_test[:, 0],\n",
    "            #    X_test[:, 1],\n",
    "            #    c=y_test,\n",
    "            #    cmap=cm_bright,\n",
    "            #    edgecolors=\"k\",\n",
    "            #    alpha=0.6,\n",
    "            #)\n",
    "    \n",
    "            #ax.set_xlim(x_min, x_max)\n",
    "            #ax.set_ylim(y_min, y_max)\n",
    "            #ax.set_xticks(())\n",
    "            #ax.set_yticks(())\n",
    "            #if ds_cnt == 0:\n",
    "            #    ax.set_title(name)\n",
    "            #ax.text(\n",
    "            #    x_max - 0.3,\n",
    "            #    y_min + 0.3\n",
    "            #    (\"%.2f\" % score).lstrip(\"0\"),\n",
    "            #    size=15,\n",
    "            #    horizontalalignment=\"right\",\n",
    "            #)\n",
    "            #i += 1\n",
    "print(\"\\n Total des scores par modèle:  \\n \\n\",score_result)\n",
    "score_result = [x / 10 for x in score_result]\n",
    "print(\"\\n Moyenne des score par modèle:  \\n \\n\",score_result)\n",
    "indices_top_4 = [index for index, value in sorted(enumerate(score_result), key=lambda x: x[1], reverse=True)[:4]]\n",
    "print(\"\\n Les 4 meilleurs Modèles sont:  \\n \\n\",names[indices_top_4[0]],\"\\n\",names[indices_top_4[1]],\"\\n\",names[indices_top_4[2]],\"\\n\",names[indices_top_4[3]],\"\\n\")\n",
    "\n",
    "for i in indices_top_4:\n",
    "    filename = names[i] + \"_model.sav\"\n",
    "    pickle.dump(modeles[i], open(filename, 'wb'))\n",
    "#plt.tight_layout()\n",
    "#plt.show()"
   ]
  },
  {
   "cell_type": "code",
   "execution_count": 19,
   "id": "4caf55e0-c260-477d-8f27-ea43d66fe4f1",
   "metadata": {},
   "outputs": [],
   "source": [
    "#import lazypredict\n",
    "#from lazypredict.Supervised import LazyClassifier\n",
    "\n",
    "#X_train, X_test, y_train, y_test = train_test_split(linearly_separable[1], linearly_separable[2], test_size=0.5, random_state=123)\n",
    "\n",
    "#clf = LazyClassifier(verbose=0, ignore_warnings=True, custom_metric=None)\n",
    "#models, predictions = clf.fit(X_train, X_test, y_train, y_test)\n",
    "\n",
    "#print(models)"
   ]
  },
  {
   "cell_type": "code",
   "execution_count": 20,
   "id": "50bb02c2-f197-43d7-84e3-805bf13bc561",
   "metadata": {},
   "outputs": [
    {
     "name": "stdout",
     "output_type": "stream",
     "text": [
      "\n",
      " Le résultat des tests pour le modèle  Nearest Neighbors :  \n",
      " \n",
      " 0.9777777777777777\n",
      "\n",
      " Le résultat des tests pour le modèle  Poly SVM :  \n",
      " \n",
      " 0.9777777777777777\n",
      "\n",
      " Le résultat des tests pour le modèle  RBF SVM :  \n",
      " \n",
      " 0.9777777777777777\n",
      "\n",
      " Le résultat des tests pour le modèle  Gaussian Process :  \n",
      " \n",
      " 0.9777777777777777\n"
     ]
    }
   ],
   "source": [
    "download_modele = []\n",
    "for i in indices_top_4:\n",
    "    filename = names[i] + \"_model.sav\"\n",
    "    download_modele.append(pickle.load(open(filename, 'rb')))\n",
    "for i in range(len(download_modele)):\n",
    "    result = clf.score(X_test, y_test)\n",
    "    print(\"\\n Le résultat des tests pour le modèle \",names[i],\":  \\n \\n\",result)"
   ]
  },
  {
   "cell_type": "code",
   "execution_count": 25,
   "id": "89a3183f-b9bb-4d41-b64d-cce9d704814b",
   "metadata": {},
   "outputs": [
    {
     "name": "stdout",
     "output_type": "stream",
     "text": [
      "['Iris-versicolor']\n"
     ]
    }
   ],
   "source": [
    "feature_names = [\"SepalLengthCm\", \"SepalWidthCm\", \"PetalLengthCm\", \"PetalWidthCm\"]\n",
    "X_new = pd.DataFrame([[6.0, 3.3, 3.2, 2.0]], columns=feature_names)\n",
    "pred = download_modele[0].predict(X_new)\n",
    "print(pred)"
   ]
  }
 ],
 "metadata": {
  "kernelspec": {
   "display_name": "Python 3 (ipykernel)",
   "language": "python",
   "name": "python3"
  },
  "language_info": {
   "codemirror_mode": {
    "name": "ipython",
    "version": 3
   },
   "file_extension": ".py",
   "mimetype": "text/x-python",
   "name": "python",
   "nbconvert_exporter": "python",
   "pygments_lexer": "ipython3",
   "version": "3.13.2"
  }
 },
 "nbformat": 4,
 "nbformat_minor": 5
}
